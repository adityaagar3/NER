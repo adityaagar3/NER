{
 "cells": [
  {
   "cell_type": "code",
   "execution_count": 1,
   "metadata": {},
   "outputs": [],
   "source": [
    "import spacy\n",
    "import subprocess\n",
    "import sys"
   ]
  },
  {
   "cell_type": "code",
   "execution_count": 4,
   "metadata": {},
   "outputs": [],
   "source": [
    "model_name = \"hp_model_chap1\"\n",
    "word_vectors = 'word_vectors/word2vec_model_hp.txt'"
   ]
  },
  {
   "cell_type": "code",
   "execution_count": 9,
   "metadata": {},
   "outputs": [],
   "source": [
    "def load_word_vectors(model_name, word_vectors):\n",
    "    subprocess.run(\n",
    "        [sys.executable,\n",
    "         \"-m\",\n",
    "         \"spacy\",\n",
    "         \"init\", \"vectors\",\n",
    "         \"en\",\n",
    "         word_vectors,\n",
    "         model_name\n",
    "         ]\n",
    "    )\n",
    "\n",
    "load_word_vectors(model_name, word_vectors)"
   ]
  },
  {
   "cell_type": "code",
   "execution_count": 15,
   "metadata": {},
   "outputs": [
    {
     "name": "stdout",
     "output_type": "stream",
     "text": [
      "['Harry', 'Ron', 'He', 'quickly', 'eagerly', 'he', 'moaned', 'himself', 'Like', 'stared'] [[1.     0.6955 0.6414 0.6208 0.6061 0.5929 0.5855 0.5855 0.5841 0.5773]]\n"
     ]
    }
   ],
   "source": [
    "import numpy as np\n",
    "def spacy_sim(your_word,model_name):\n",
    "    nlp = spacy.load(model_name)\n",
    "    \n",
    "    ms = nlp.vocab.vectors.most_similar(\n",
    "        np.asarray([nlp.vocab.vectors[nlp.vocab.strings[your_word]]]), n=10)\n",
    "    words = [nlp.vocab.strings[w] for w in ms[0][0]]\n",
    "    distances = ms[2]\n",
    "    print(words, distances)\n",
    "\n",
    "spacy_sim(\"Harry\",model_name)"
   ]
  },
  {
   "cell_type": "code",
   "execution_count": 23,
   "metadata": {},
   "outputs": [
    {
     "name": "stdout",
     "output_type": "stream",
     "text": [
      "0.0\n"
     ]
    }
   ],
   "source": [
    "nlp = spacy.load(model_name)\n",
    "doc = nlp(\"Harry was very sad.\")\n",
    "print(doc.sentiment)"
   ]
  },
  {
   "cell_type": "code",
   "execution_count": null,
   "metadata": {},
   "outputs": [],
   "source": []
  }
 ],
 "metadata": {
  "kernelspec": {
   "display_name": "Python 3",
   "language": "python3.8",
   "name": "python3"
  },
  "language_info": {
   "codemirror_mode": {
    "name": "ipython",
    "version": 3
   },
   "file_extension": ".py",
   "mimetype": "text/x-python",
   "name": "python",
   "nbconvert_exporter": "python",
   "pygments_lexer": "ipython3",
   "version": "3.6.5"
  }
 },
 "nbformat": 4,
 "nbformat_minor": 2
}
