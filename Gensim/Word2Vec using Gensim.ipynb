{
 "cells": [
  {
   "cell_type": "code",
   "execution_count": 16,
   "metadata": {},
   "outputs": [],
   "source": [
    "import json\n",
    "from gensim.models.word2vec import Word2Vec\n",
    "from gensim.models.keyedvectors import KeyedVectors\n",
    "import multiprocessing\n",
    "import re\n",
    "from spacy.lang.en import English # updated"
   ]
  },
  {
   "cell_type": "code",
   "execution_count": 20,
   "metadata": {},
   "outputs": [
    {
     "data": {
      "text/plain": [
       "['Hello, world.', 'Here are two sentences.']"
      ]
     },
     "execution_count": 20,
     "metadata": {},
     "output_type": "execute_result"
    }
   ],
   "source": [
    "nlp = English()\n",
    "nlp.add_pipe('sentencizer') # updated"
   ]
  },
  {
   "cell_type": "code",
   "execution_count": 31,
   "metadata": {},
   "outputs": [],
   "source": [
    "def prepare_data(filename):\n",
    "    with open(filename,\"r\",encoding=\"utf-8\") as f:\n",
    "        text = f.read().split(\"\\n\\n\")\n",
    "    word = []\n",
    "    allsegment = []\n",
    "    for segment in text:\n",
    "        segment = segment.strip()\n",
    "        segment = segment.replace(\"\\n\",\" \")\n",
    "        segment = re.sub(r'[^\\w\\s]', '', segment)\n",
    "        \n",
    "        doc = nlp(segment)\n",
    "        sentences = [sent.text.split() for sent in doc.sents]\n",
    "        allsegment = allsegment + sentences\n",
    "    return(allsegment)\n",
    "    \n",
    "\n",
    "def training(model_name, filename):\n",
    "    sentences = prepare_data(filename)\n",
    "\n",
    "    cores = multiprocessing.cpu_count()\n",
    "    w2v_model = Word2Vec(\n",
    "        min_count=5,\n",
    "        window=2,\n",
    "        vector_size=200,\n",
    "        sample=6e-5,\n",
    "        alpha=0.03,\n",
    "        min_alpha=0.0007,\n",
    "        negative=20,\n",
    "        seed = 11)\n",
    "    w2v_model.build_vocab(sentences)\n",
    "    w2v_model.train(sentences, total_examples=w2v_model.corpus_count, epochs=100)\n",
    "    w2v_model.save(f\"word_vectors/{model_name}.model\")\n",
    "    w2v_model.wv.save_word2vec_format(f\"word_vectors/word2vec_{model_name}.model\")\n",
    "    \n",
    "training(\"model_hp\", \"hpchapter1.txt\")\n"
   ]
  },
  {
   "cell_type": "code",
   "execution_count": 32,
   "metadata": {},
   "outputs": [
    {
     "name": "stdout",
     "output_type": "stream",
     "text": [
      "[('Ron', 0.6954762935638428), ('He', 0.641409695148468), ('quickly', 0.6208124160766602), ('eagerly', 0.606089174747467), ('he', 0.5928812026977539), ('moaned', 0.5855399966239929), ('himself', 0.5854555368423462), ('Like', 0.5841359496116638), ('stared', 0.5773068070411682), ('struck', 0.5763301253318787)]\n"
     ]
    }
   ],
   "source": [
    "def gen_sim(word):\n",
    "    model = KeyedVectors.load_word2vec_format(\"word_vectors/word2vec_model_hp.model\",\n",
    "                                             binary=False)\n",
    "    results = model.most_similar(positive=[word])\n",
    "    print(results)\n",
    "\n",
    "gen_sim(\"Harry\")"
   ]
  },
  {
   "cell_type": "code",
   "execution_count": 33,
   "metadata": {},
   "outputs": [
    {
     "name": "stdout",
     "output_type": "stream",
     "text": [
      "[('fifty', 0.8320811986923218), ('points', 0.8275266289710999), ('Slytherin', 0.8079466819763184), ('winning', 0.805392861366272), ('lose', 0.7723042964935303), ('taken', 0.756479024887085), ('win', 0.7530296444892883), ('Slytherins', 0.7512549757957458), ('won', 0.7457296848297119), ('house', 0.7346804141998291)]\n"
     ]
    }
   ],
   "source": [
    "gen_sim(\"Gryffindor\")"
   ]
  },
  {
   "cell_type": "code",
   "execution_count": null,
   "metadata": {},
   "outputs": [],
   "source": []
  }
 ],
 "metadata": {
  "kernelspec": {
   "display_name": "Python 3",
   "language": "python3.8",
   "name": "python3"
  },
  "language_info": {
   "codemirror_mode": {
    "name": "ipython",
    "version": 3
   },
   "file_extension": ".py",
   "mimetype": "text/x-python",
   "name": "python",
   "nbconvert_exporter": "python",
   "pygments_lexer": "ipython3",
   "version": "3.6.5"
  }
 },
 "nbformat": 4,
 "nbformat_minor": 2
}
