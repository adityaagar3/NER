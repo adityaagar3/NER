{
 "cells": [
  {
   "cell_type": "code",
   "execution_count": 1,
   "id": "a19b75f3",
   "metadata": {},
   "outputs": [],
   "source": [
    "import spacy\n",
    "import json\n",
    "import random\n",
    "from spacy.util import minibatch, compounding\n",
    "from spacy.training import Example\n",
    "import pandas as pd\n",
    "\n",
    "nlp = spacy.load('en_core_web_lg')\n",
    "# from spacy.lang.en import English\n",
    "# from spacy.pipeline import EntityRuler"
   ]
  },
  {
   "cell_type": "code",
   "execution_count": 2,
   "id": "9bf3c4c8",
   "metadata": {},
   "outputs": [
    {
     "data": {
      "text/html": [
       "<div>\n",
       "<style scoped>\n",
       "    .dataframe tbody tr th:only-of-type {\n",
       "        vertical-align: middle;\n",
       "    }\n",
       "\n",
       "    .dataframe tbody tr th {\n",
       "        vertical-align: top;\n",
       "    }\n",
       "\n",
       "    .dataframe thead th {\n",
       "        text-align: right;\n",
       "    }\n",
       "</style>\n",
       "<table border=\"1\" class=\"dataframe\">\n",
       "  <thead>\n",
       "    <tr style=\"text-align: right;\">\n",
       "      <th></th>\n",
       "      <th>NOTES</th>\n",
       "      <th>entity_age</th>\n",
       "      <th>category_age</th>\n",
       "      <th>entity_object</th>\n",
       "      <th>category_object</th>\n",
       "    </tr>\n",
       "  </thead>\n",
       "  <tbody>\n",
       "    <tr>\n",
       "      <th>0</th>\n",
       "      <td>the Building is only 8 Years old and They are ...</td>\n",
       "      <td>8 years old</td>\n",
       "      <td>age</td>\n",
       "      <td>building</td>\n",
       "      <td>building</td>\n",
       "    </tr>\n",
       "    <tr>\n",
       "      <th>1</th>\n",
       "      <td>the Ia noted that the Contractor took one ol...</td>\n",
       "      <td>old</td>\n",
       "      <td>old</td>\n",
       "      <td></td>\n",
       "      <td></td>\n",
       "    </tr>\n",
       "    <tr>\n",
       "      <th>2</th>\n",
       "      <td>insured is in Process of building a new Home, ...</td>\n",
       "      <td>new</td>\n",
       "      <td>new</td>\n",
       "      <td>home</td>\n",
       "      <td>building</td>\n",
       "    </tr>\n",
       "    <tr>\n",
       "      <th>3</th>\n",
       "      <td>insured is in Process of building a new Home, ...</td>\n",
       "      <td>old</td>\n",
       "      <td>old</td>\n",
       "      <td>home</td>\n",
       "      <td>building</td>\n",
       "    </tr>\n",
       "    <tr>\n",
       "      <th>4</th>\n",
       "      <td>the referenced Roof Leaks were the Result of o...</td>\n",
       "      <td>old</td>\n",
       "      <td>old</td>\n",
       "      <td>roof</td>\n",
       "      <td>roof</td>\n",
       "    </tr>\n",
       "  </tbody>\n",
       "</table>\n",
       "</div>"
      ],
      "text/plain": [
       "                                               NOTES   entity_age  \\\n",
       "0  the Building is only 8 Years old and They are ...  8 years old   \n",
       "1    the Ia noted that the Contractor took one ol...          old   \n",
       "2  insured is in Process of building a new Home, ...          new   \n",
       "3  insured is in Process of building a new Home, ...          old   \n",
       "4  the referenced Roof Leaks were the Result of o...          old   \n",
       "\n",
       "  category_age entity_object category_object  \n",
       "0          age      building        building  \n",
       "1          old                                \n",
       "2          new          home        building  \n",
       "3          old          home        building  \n",
       "4          old          roof            roof  "
      ]
     },
     "execution_count": 2,
     "metadata": {},
     "output_type": "execute_result"
    }
   ],
   "source": [
    "def load_data(file):\n",
    "    data = pd.read_csv(file, encoding='latin1', index_col = False)\n",
    "    return(data)\n",
    "\n",
    "def save_data(file,data):\n",
    "    with open(file, \"w\",encoding=\"utf-8\") as f:\n",
    "        json.dump(data, f, indent = 4)\n",
    "\n",
    "        \n",
    "# format for training data > Train_data = [(text, {\"entities\":[(start,end,label)]})]\n",
    "\n",
    "def test_model(text):\n",
    "    doc = nlp(text)\n",
    "    results = []\n",
    "    entities = []\n",
    "    for ent in doc.ents:\n",
    "        entities = entities + [(ent.start_char, ent.end_char, ent.label_)]\n",
    "    if len(entities) > 0:\n",
    "        results = [text,{\"entities\": entities}]\n",
    "#         print(results)\n",
    "    return(results)\n",
    "\n",
    "def get_position(txt, str):\n",
    "    start = txt.find(str)\n",
    "    end = txt.find(str)+len(str)\n",
    "    return start,end\n",
    "\n",
    "data = load_data(\"tagged data.csv\")\n",
    "\n",
    "import numpy as np\n",
    "data = data.replace(np.nan, '', regex=True)\n",
    "data.head()\n",
    "\n"
   ]
  },
  {
   "cell_type": "code",
   "execution_count": 1,
   "id": "43585e79",
   "metadata": {},
   "outputs": [
    {
     "name": "stdout",
     "output_type": "stream",
     "text": [
      "the Building is only 8 Years old and They are reusing the Bricks old.\n"
     ]
    },
    {
     "ename": "NameError",
     "evalue": "name 'get_position' is not defined",
     "output_type": "error",
     "traceback": [
      "\u001b[1;31m---------------------------------------------------------------------------\u001b[0m",
      "\u001b[1;31mNameError\u001b[0m                                 Traceback (most recent call last)",
      "\u001b[1;32m<ipython-input-1-fbf5383e1bfe>\u001b[0m in \u001b[0;36m<module>\u001b[1;34m\u001b[0m\n\u001b[0;32m      1\u001b[0m \u001b[0mtxt\u001b[0m \u001b[1;33m=\u001b[0m \u001b[1;34m\"the Building is only 8 Years old and They are reusing the Bricks old.\"\u001b[0m\u001b[1;33m\u001b[0m\u001b[1;33m\u001b[0m\u001b[0m\n\u001b[0;32m      2\u001b[0m \u001b[0mprint\u001b[0m\u001b[1;33m(\u001b[0m\u001b[0mtxt\u001b[0m\u001b[1;33m)\u001b[0m\u001b[1;33m\u001b[0m\u001b[1;33m\u001b[0m\u001b[0m\n\u001b[1;32m----> 3\u001b[1;33m \u001b[0mget_position\u001b[0m\u001b[1;33m(\u001b[0m\u001b[0mtxt\u001b[0m\u001b[1;33m,\u001b[0m\u001b[1;34m'8 Years old'\u001b[0m\u001b[1;33m)\u001b[0m\u001b[1;33m\u001b[0m\u001b[1;33m\u001b[0m\u001b[0m\n\u001b[0m\u001b[0;32m      4\u001b[0m \u001b[1;33m\u001b[0m\u001b[0m\n\u001b[0;32m      5\u001b[0m \u001b[0mTRAIN_DATA\u001b[0m \u001b[1;33m=\u001b[0m \u001b[1;33m[\u001b[0m\u001b[1;33m]\u001b[0m\u001b[1;33m\u001b[0m\u001b[1;33m\u001b[0m\u001b[0m\n",
      "\u001b[1;31mNameError\u001b[0m: name 'get_position' is not defined"
     ]
    }
   ],
   "source": [
    "txt = \"the Building is only 8 Years old and They are reusing the Bricks old.\"\n",
    "print(txt)\n",
    "get_position(txt,'8 Years old')\n",
    "\n",
    "TRAIN_DATA = []\n",
    "data1 = data\n",
    "\n",
    "\n",
    "for i in range(len(data1)):\n",
    "    entities = []\n",
    "    text = data1['NOTES'][i].strip()\n",
    "    if data1['entity_age'][i]!= '':\n",
    "        start_char, end_char = get_position(text.lower(),data1['entity_age'][i].lower())\n",
    "        entities = [(start_char, end_char, data1['category_age'][i])]\n",
    "    if data1['entity_object'][i] != '':\n",
    "        start_char1, end_char1 = get_position(text.lower(),data1['entity_object'][i].lower())\n",
    "        entities = entities + [(start_char1, end_char1, data1['category_object'][i])]\n",
    "    results = [text,{\"entities\": entities}]\n",
    "    TRAIN_DATA = TRAIN_DATA + [results]\n",
    "    "
   ]
  },
  {
   "cell_type": "code",
   "execution_count": null,
   "id": "aebd5b9e",
   "metadata": {},
   "outputs": [],
   "source": []
  },
  {
   "cell_type": "code",
   "execution_count": 4,
   "id": "4f98c93e",
   "metadata": {},
   "outputs": [
    {
     "name": "stdout",
     "output_type": "stream",
     "text": [
      "129\n"
     ]
    }
   ],
   "source": [
    "# TRAIN_DATA = []\n",
    "# with open(\"hpchapter1.txt\",\"r\",encoding=\"utf-8\") as f:\n",
    "#     text = f.read()\n",
    "#     chapters = text.split(\"CHAPTER\")[1:]\n",
    "#     for chapter in chapters:\n",
    "#         chapter_num, chapter_title = chapter.split(\"\\n\\n\")[0:2]\n",
    "#         segments = chapter.split(\"\\n\\n\")[2:]\n",
    "#         results = list()\n",
    "#         for segment in segments:\n",
    "#             segment = segment.replace(\"\\n\",\" \").strip()\n",
    "#             result = test_model(nlp,segment)\n",
    "#             if result != []:\n",
    "#                 results = results + [result]\n",
    "#         TRAIN_DATA = TRAIN_DATA + results\n",
    "print(len(TRAIN_DATA))\n"
   ]
  },
  {
   "cell_type": "code",
   "execution_count": 5,
   "id": "4c74d051",
   "metadata": {},
   "outputs": [
    {
     "data": {
      "text/plain": [
       "['the Building is only 8 Years old and They are reusing the Bricks .',\n",
       " {'entities': [(21, 32, 'age'), (4, 12, 'building')]}]"
      ]
     },
     "execution_count": 5,
     "metadata": {},
     "output_type": "execute_result"
    }
   ],
   "source": [
    "TRAIN_DATA[0]"
   ]
  },
  {
   "cell_type": "code",
   "execution_count": 6,
   "id": "ee784eed",
   "metadata": {},
   "outputs": [
    {
     "name": "stdout",
     "output_type": "stream",
     "text": [
      "{'entities': [(21, 32, 'age'), (4, 12, 'building')]}\n",
      "{'entities': [(42, 45, 'old')]}\n",
      "{'entities': [(36, 39, 'new'), (40, 44, 'building')]}\n",
      "{'entities': [(60, 63, 'old'), (40, 44, 'building')]}\n",
      "{'entities': [(2085, 2088, 'old'), (15, 19, 'roof')]}\n",
      "{'entities': [(9, 21, 'age')]}\n",
      "{'entities': [(16, 23, 'new'), (5, 9, 'building')]}\n",
      "{'entities': [(46, 58, 'age'), (28, 36, 'building')]}\n",
      "{'entities': [(14, 17, 'old'), (0, 8, 'building')]}\n",
      "{'entities': [(378, 395, 'age'), (68, 73, 'equipment')]}\n",
      "{'entities': [(266, 269, 'old'), (270, 278, 'building')]}\n",
      "{'entities': [(266, 269, 'old'), (283, 287, 'plumbing')]}\n",
      "{'entities': [(11, 14, 'old'), (15, 28, 'building')]}\n",
      "{'entities': [(202, 213, 'age'), (53, 58, 'equipment')]}\n",
      "{'entities': [(287, 300, 'age'), (264, 272, 'building')]}\n",
      "{'entities': [(841, 854, 'age'), (818, 826, 'building')]}\n",
      "{'entities': [(287, 300, 'age'), (264, 272, 'building')]}\n",
      "{'entities': [(-1, 3, 'age'), (18, 23, 'building')]}\n",
      "{'entities': [(14, 17, 'old'), (18, 23, 'building')]}\n",
      "{'entities': [(37, 47, 'age'), (18, 26, 'building')]}\n",
      "{'entities': [(9, 12, 'old'), (13, 21, 'building')]}\n",
      "{'entities': [(-1, 18, 'age'), (582, 605, 'equipment')]}\n",
      "{'entities': [(181, 184, 'old'), (100, 108, 'building')]}\n",
      "{'entities': [(35, 47, 'age'), (4, 17, 'roof')]}\n",
      "{'entities': [(10, 13, 'old'), (14, 32, 'building')]}\n",
      "{'entities': [(15, 28, 'age'), (4, 12, 'building')]}\n",
      "{'entities': [(200, 203, 'old'), (204, 217, 'plumbing')]}\n",
      "{'entities': [(58, 61, 'old'), (62, 70, 'building')]}\n",
      "{'entities': [(11, 14, 'old'), (0, 4, 'building')]}\n",
      "{'entities': [(32, 35, 'old'), (36, 62, 'building')]}\n",
      "{'entities': [(-1, 12, 'age'), (0, 8, 'building')]}\n",
      "{'entities': [(163, 174, 'age'), (58, 69, 'building')]}\n",
      "{'entities': [(1247, 1258, 'age'), (235, 239, 'roof')]}\n",
      "{'entities': [(1247, 1258, 'age'), (1259, 1268, 'roof')]}\n",
      "{'entities': [(29, 32, 'old'), (33, 37, 'roof')]}\n",
      "{'entities': [(58, 66, 'old'), (67, 72, 'building')]}\n",
      "{'entities': [(12, 24, 'age'), (0, 8, 'building')]}\n",
      "{'entities': [(320, 332, 'age'), (267, 271, 'roof')]}\n",
      "{'entities': [(402, 413, 'age'), (414, 418, 'roof')]}\n",
      "{'entities': [(769, 781, 'age'), (63, 71, 'building')]}\n",
      "{'entities': [(271, 275, 'age'), (245, 249, 'roof')]}\n",
      "{'entities': [(124, 139, 'age'), (140, 159, 'building')]}\n",
      "{'entities': [(28, 41, 'age'), (4, 12, 'building')]}\n",
      "{'entities': [(155, 158, 'old'), (165, 175, 'building')]}\n",
      "{'entities': [(76, 79, 'old'), (80, 88, 'building')]}\n",
      "{'entities': [(21, 34, 'age'), (4, 12, 'building')]}\n",
      "{'entities': [(148, 151, 'old'), (152, 156, 'roof')]}\n",
      "{'entities': [(12, 20, 'old'), (0, 8, 'building')]}\n",
      "{'entities': [(81, 93, 'age'), (4, 12, 'building')]}\n",
      "{'entities': [(10, 21, 'age'), (22, 30, 'building')]}\n",
      "{'entities': [(12, 15, 'old'), (0, 8, 'building')]}\n",
      "{'entities': [(37, 49, 'age'), (22, 33, 'equipment')]}\n",
      "{'entities': [(56, 61, 'old'), (44, 49, 'building')]}\n",
      "{'entities': [(37, 50, 'age'), (17, 33, 'equipment')]}\n",
      "{'entities': [(67, 80, 'age'), (-1, 7, 'building')]}\n",
      "{'entities': [(178, 195, 'age'), (195, 205, 'roof')]}\n",
      "{'entities': [(57, 60, 'old'), (49, 53, 'roof')]}\n",
      "{'entities': [(277, 300, 'age'), (264, 272, 'building')]}\n",
      "{'entities': [(1247, 1258, 'age'), (1259, 1268, 'roof')]}\n",
      "{'entities': [(450, 461, 'age'), (424, 441, 'equipment')]}\n",
      "{'entities': [(101, 104, 'old'), (54, 64, 'equipment')]}\n",
      "{'entities': [(145, 155, 'age'), (119, 134, 'equipment')]}\n",
      "{'entities': [(229, 232, 'old'), (129, 136, 'equipment')]}\n",
      "{'entities': [(136, 147, 'age'), (117, 125, 'building')]}\n",
      "{'entities': [(402, 413, 'age'), (414, 418, 'roof')]}\n",
      "{'entities': [(656, 668, 'age'), (59, 63, 'roof')]}\n",
      "{'entities': [(65, 77, 'age'), (51, 55, 'roof')]}\n",
      "{'entities': [(517, 535, 'age'), (336, 340, 'roof')]}\n",
      "{'entities': [(44, 57, 'age'), (58, 70, 'roof')]}\n",
      "{'entities': [(84, 95, 'age'), (69, 77, 'building')]}\n",
      "{'entities': [(112, 124, 'age'), (37, 42, 'building')]}\n",
      "{'entities': [(89, 103, 'age'), (70, 75, 'equipment')]}\n",
      "{'entities': [(10, 33, 'age'), (0, 5, 'building')]}\n",
      "{'entities': [(78, 95, 'age'), (67, 71, 'building')]}\n",
      "{'entities': [(42, 59, 'age'), (36, 40, 'roof')]}\n",
      "{'entities': [(31, 39, 'old'), (40, 44, 'roof')]}\n",
      "{'entities': [(19, 29, 'age'), (30, 45, 'equipment')]}\n",
      "{'entities': [(41, 44, 'old'), (26, 33, 'equipment')]}\n",
      "{'entities': [(98, 115, 'new'), (55, 61, 'equipment')]}\n",
      "{'entities': [(39, 50, 'age'), (55, 66, 'plumbing')]}\n",
      "{'entities': [(9, 20, 'age'), (37, 48, 'plumbing')]}\n",
      "{'entities': [(188, 199, 'age'), (206, 217, 'plumbing')]}\n",
      "{'entities': [(27, 40, 'equipment')]}\n",
      "{'entities': [(37, 53, 'age'), (21, 36, 'equipment')]}\n",
      "{'entities': [(300, 313, 'age'), (314, 329, 'equipment')]}\n",
      "{'entities': [(271, 284, 'age'), (285, 300, 'equipment')]}\n",
      "{'entities': [(52, 59, 'age'), (69, 84, 'equipment')]}\n",
      "{'entities': [(67, 70, 'old'), (-1, 14, 'equipment')]}\n",
      "{'entities': [(11, 28, 'age'), (0, 7, 'equipment')]}\n",
      "{'entities': [(17, 22, 'old'), (23, 38, 'equipment')]}\n",
      "{'entities': [(19, 33, 'age'), (0, 15, 'equipment')]}\n",
      "{'entities': [(97, 100, 'new'), (101, 106, 'building')]}\n",
      "{'entities': [(15, 18, 'new'), (-1, 22, 'equipment')]}\n",
      "{'entities': [(32, 35, 'new'), (36, 43, 'roof')]}\n",
      "{'entities': [(4, 7, 'new'), (47, 54, 'roof')]}\n",
      "{'entities': [(73, 77, 'new'), (77, 88, 'equipment')]}\n",
      "{'entities': [(14, 17, 'new'), (18, 36, '')]}\n",
      "{'entities': [(34, 46, 'new'), (17, 21, 'roof')]}\n",
      "{'entities': [(64, 68, 'age'), (42, 50, 'building')]}\n",
      "{'entities': [(35, 38, 'new'), (26, 34, 'building')]}\n",
      "{'entities': [(71, 74, 'new'), (75, 81, 'equipment')]}\n",
      "{'entities': [(23, 35, 'age'), (0, 13, 'roof')]}\n",
      "{'entities': [(52, 55, 'old'), (56, 67, 'equipment')]}\n",
      "{'entities': [(33, 53, 'age'), (11, 15, 'roof')]}\n",
      "{'entities': [(-1, 16, 'age'), (18, 26, 'building')]}\n",
      "{'entities': [(16, 28, 'age'), (0, 15, 'equipment')]}\n",
      "{'entities': [(50, 63, 'age'), (25, 32, 'equipment')]}\n",
      "{'entities': [(54, 58, 'old'), (59, 72, 'plumbing')]}\n",
      "{'entities': [(79, 86, 'equipment')]}\n",
      "{'entities': [(49, 59, 'plumbing')]}\n",
      "{'entities': [(123, 127, 'old'), (49, 62, 'plumbing')]}\n",
      "{'entities': [(57, 61, 'old'), (67, 72, 'plumbing')]}\n",
      "{'entities': [(125, 129, 'old'), (61, 72, 'plumbing')]}\n",
      "{'entities': [(128, 140, 'age'), (119, 124, 'building')]}\n",
      "{'entities': [(51, 55, 'old'), (43, 47, 'roof')]}\n",
      "{'entities': [(143, 147, 'roof')]}\n",
      "{'entities': [(56, 60, 'plumbing')]}\n",
      "{'entities': [(81, 87, 'plumbing')]}\n",
      "{'entities': [(117, 136, 'old'), (90, 94, 'building')]}\n",
      "{'entities': [(26, 30, 'old'), (18, 22, 'roof')]}\n",
      "{'entities': [(93, 104, 'age'), (78, 83, 'equipment')]}\n",
      "{'entities': [(196, 207, 'building')]}\n",
      "{'entities': [(68, 80, 'equipment')]}\n",
      "{'entities': [(101, 112, 'age'), (84, 92, 'building')]}\n",
      "{'entities': [(84, 88, 'age'), (70, 74, 'building')]}\n",
      "{'entities': [(130, 134, 'age'), (112, 120, 'building')]}\n",
      "{'entities': [(251, 262, 'age'), (238, 242, 'roof')]}\n",
      "{'entities': [(84, 96, 'age'), (60, 67, 'roof')]}\n",
      "{'entities': [(222, 239, 'old'), (137, 140, 'equipment')]}\n"
     ]
    },
    {
     "data": {
      "text/plain": [
       "['the referenced Roof Leaks were the Result of one or more of the Following:-improper Repair Methods and materials;-deteriorated Condition of the Roof covering as a Result of normal Wear and Weathering;-workmanship Deficiencies associated with the Installation of the Roof Assembly; and - improper Maintenance of the Roof assembly.*the referenced stained and/or deteriorated Portions of Ceiling finishes within the Dining Room, Kitchen, Guest Bathroom and southeast Bedroom were not the Result of Storm - created Openings in the Roof Assembly attributable to Forces associated with severe Weather Events ( e.g. Wind damage).*based on the observed Damage, the Roof Leaks above Dining Room, Kitchen, Guest Bathroom and southeast Bedroom were long - Term, repetitive and ongoing over a Period of 1 Year or more prior to the reported Date of loss.*the preceding Opinions were based on the Following:-ghd?s Observations; including but not limited to the Following*the Age and Condition of the Roof Coverings and structure;*improper Repair Methods and materials;*lack of Wind - related Damage to the Roof covering;*the Location and Extent of Workmanship and/or Maintenance Deficiencies; and*the Location, Pattern and Extent of Moisture - related Damage to Portions of the interior and attic Space of the subject structure.-ghd?s Review of historical Weather Data;-ghd?s Review of historical permitting data;-ghd?s Review of the Florida Building Code; and - the Report of the Homeowner.the Denial Letter was sent outlining the correct Policy Language Attachment ( no Wind Damage or covered Peril created Opening)***************************************************************************************************************************************summation of File is as follows:- I agree with Coverage Decision to deny ( no covered Loss ) no - Wind damage/ no Opening.-photos show Deterioration in many Areas exterior / interior - general File Handling / Documentation is noted to be thorough - Exposure is roughly $ 24kfor new Shingle Roof and interior Damage - the Roof Photos reveal a very old & deteriorated Roof on an older florida Home ( 70 Years Old)-there is no Pa/ Attorney - They have no Documentation of written Estimates to present at this time.based on the above Assessment, I am requesting a Psa ( nuisance Value ) of $ 2,500, for this Mediation please advise if You agree.gratitude, Mark suterasenior Field Adjuster[fpcs Logo]florida Peninsula claim Services903 Nw 65th Street, Suite 200boca Raton, Fl 33487mark.sutera@fpclaimservices.com < mailto: mark.sutera@fpclaimservices.com > Phone:(561 ) 320 - 1821fax:(888 ) 408 - 9472from: Hiam Bakersent: Thursday, may 16, 2019 3:30 Pmto: Mark Sutera < mark.sutera@fpclaimservices.com > cc: Angel Toro < angel.toro@fpclaimservices.com >; Jeff Konikoff < jeff.konikoff@fpclaimservices.com > subject: re: Sands, Neal claim no.:',\n",
       " {'entities': [(2085, 2088, 'old'), (15, 19, 'roof')]}]"
      ]
     },
     "execution_count": 6,
     "metadata": {},
     "output_type": "execute_result"
    }
   ],
   "source": [
    "save_data(\"train_data.json\",TRAIN_DATA)\n",
    "for a , b in TRAIN_DATA:\n",
    "    print(b)\n",
    "\n",
    "TRAIN_DATA[4]"
   ]
  },
  {
   "cell_type": "code",
   "execution_count": 7,
   "id": "d9600f60",
   "metadata": {},
   "outputs": [],
   "source": [
    "### create a function that will be used to train the model \n",
    "def train_spacy(data, iterations):\n",
    "    TRAIN_DATA = data\n",
    "    nlp = spacy.blank(\"en\")\n",
    "    if \"ner\" not in nlp.pipe_names:\n",
    "        ner = nlp.add_pipe(\"ner\", last=True)\n",
    "    \n",
    "    for a , annotations in TRAIN_DATA:\n",
    "        for ent in annotations.get(\"entities\"):\n",
    "            ner.add_label(ent[2])\n",
    "    \n",
    "    other_pipes = [pipe for pipe in nlp.pipe_names if pipe != 'ner']\n",
    "    with nlp.disable_pipes(other_pipes):\n",
    "        optimizer = nlp.begin_training()\n",
    "        \n",
    "        for itn in range(iterations):\n",
    "            print(\"starting iteration: \" + str(itn))\n",
    "            \n",
    "            for itn in range(iterations):\n",
    "                random.shuffle(TRAIN_DATA)\n",
    "                losses = {}\n",
    "                \n",
    "                for batch in minibatch(TRAIN_DATA, size=8):\n",
    "                    for text, annotations in batch:\n",
    "                        doc = nlp.make_doc(text)\n",
    "                        example = Example.from_dict(doc, annotations)\n",
    "                        print('check1')\n",
    "                        nlp.update([example], drop=0.35, sgd=optimizer, losses=losses)\n",
    "                    print(losses)\n",
    "    return(nlp)"
   ]
  },
  {
   "cell_type": "code",
   "execution_count": null,
   "id": "96c64329",
   "metadata": {},
   "outputs": [
    {
     "name": "stdout",
     "output_type": "stream",
     "text": [
      "starting iteration: 0\n",
      "check1\n"
     ]
    }
   ],
   "source": [
    "nlp = train_spacy(TRAIN_DATA, 5)"
   ]
  },
  {
   "cell_type": "code",
   "execution_count": null,
   "id": "a26a2676",
   "metadata": {},
   "outputs": [],
   "source": [
    "nlp.to_disk(\"age_model\")"
   ]
  },
  {
   "cell_type": "code",
   "execution_count": null,
   "id": "7ae50f01",
   "metadata": {},
   "outputs": [],
   "source": []
  }
 ],
 "metadata": {
  "kernelspec": {
   "display_name": "Python 3",
   "language": "python",
   "name": "python3"
  },
  "language_info": {
   "codemirror_mode": {
    "name": "ipython",
    "version": 3
   },
   "file_extension": ".py",
   "mimetype": "text/x-python",
   "name": "python",
   "nbconvert_exporter": "python",
   "pygments_lexer": "ipython3",
   "version": "3.8.5"
  }
 },
 "nbformat": 4,
 "nbformat_minor": 5
}
